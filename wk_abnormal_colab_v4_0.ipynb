{
  "nbformat": 4,
  "nbformat_minor": 0,
  "metadata": {
    "colab": {
      "name": "wk_abnormal_colab_v4.0.ipynb",
      "version": "0.3.2",
      "provenance": [],
      "collapsed_sections": [],
      "include_colab_link": true
    },
    "kernelspec": {
      "name": "python3",
      "display_name": "Python 3"
    },
    "accelerator": "GPU"
  },
  "cells": [
    {
      "cell_type": "markdown",
      "metadata": {
        "id": "view-in-github",
        "colab_type": "text"
      },
      "source": [
        "<a href=\"https://colab.research.google.com/github/toweliewang/Intelligent-Sensing-Sense-Making/blob/master/wk_abnormal_colab_v4_0.ipynb\" target=\"_parent\"><img src=\"https://colab.research.google.com/assets/colab-badge.svg\" alt=\"Open In Colab\"/></a>"
      ]
    },
    {
      "cell_type": "markdown",
      "metadata": {
        "id": "IXqzXfJZrtmT",
        "colab_type": "text"
      },
      "source": [
        "# Workshop: Anomaly detection from sensor data\n",
        "Course: NICF- Intelligent Sensing and Sense Making (SF)\n",
        "\n",
        "Website: https://www.iss.nus.edu.sg/executive-education/course/detail/intelligent-sensing-and-sense-making/analytics-and-intelligent-systems\n",
        "\n",
        "Contact: Tian Jing\n",
        "\n",
        "Email: tianjing@nus.edu.sg\n",
        "\n",
        "## Installation guideline (Colab)\n",
        "\n",
        "[Last test on 27 August 2019] All required libraries have been installed in Colab.\n",
        "\n",
        "## Objective\n",
        "In this workshop, we will perform following three tasks:\n",
        "\n",
        "- Introduction to autoencoder model and Keras\n",
        "- Perform anomaly detection using autoencoder as reconstruction model\n",
        "\n",
        "## Submission guideline\n",
        "Once you finish the workshop, rename your .ipynb file to your name, and submit your .ipynb file into LumiNUS."
      ]
    },
    {
      "cell_type": "code",
      "metadata": {
        "id": "JbSXdcFNDpoG",
        "colab_type": "code",
        "outputId": "453cd730-d579-41bf-ff73-b60f31ff0c97",
        "colab": {
          "base_uri": "https://localhost:8080/",
          "height": 35
        }
      },
      "source": [
        "# Check GPU setup in Colab\n",
        "\n",
        "import tensorflow as tf\n",
        "tf.test.gpu_device_name()\n",
        "\n",
        "# Your expected output will be '/device:GPU:0'"
      ],
      "execution_count": 1,
      "outputs": [
        {
          "output_type": "execute_result",
          "data": {
            "text/plain": [
              "'/device:GPU:0'"
            ]
          },
          "metadata": {
            "tags": []
          },
          "execution_count": 1
        }
      ]
    },
    {
      "cell_type": "code",
      "metadata": {
        "id": "ABqVPqhtFDMG",
        "colab_type": "code",
        "outputId": "e0a28589-dd27-41ef-ac1a-c416c796d9d9",
        "colab": {
          "base_uri": "https://localhost:8080/",
          "height": 300
        }
      },
      "source": [
        "# Check GPU coinfiguration in Colab (T4 GPU)\n",
        "\n",
        "!/opt/bin/nvidia-smi"
      ],
      "execution_count": 2,
      "outputs": [
        {
          "output_type": "stream",
          "text": [
            "Wed Sep 11 10:19:41 2019       \n",
            "+-----------------------------------------------------------------------------+\n",
            "| NVIDIA-SMI 418.67       Driver Version: 418.67       CUDA Version: 10.1     |\n",
            "|-------------------------------+----------------------+----------------------+\n",
            "| GPU  Name        Persistence-M| Bus-Id        Disp.A | Volatile Uncorr. ECC |\n",
            "| Fan  Temp  Perf  Pwr:Usage/Cap|         Memory-Usage | GPU-Util  Compute M. |\n",
            "|===============================+======================+======================|\n",
            "|   0  Tesla K80           Off  | 00000000:00:04.0 Off |                    0 |\n",
            "| N/A   73C    P0    75W / 149W |     69MiB / 11441MiB |      0%      Default |\n",
            "+-------------------------------+----------------------+----------------------+\n",
            "                                                                               \n",
            "+-----------------------------------------------------------------------------+\n",
            "| Processes:                                                       GPU Memory |\n",
            "|  GPU       PID   Type   Process name                             Usage      |\n",
            "|=============================================================================|\n",
            "+-----------------------------------------------------------------------------+\n"
          ],
          "name": "stdout"
        }
      ]
    },
    {
      "cell_type": "code",
      "metadata": {
        "id": "VP5_TSABEcz3",
        "colab_type": "code",
        "outputId": "44a424e6-e5bd-4f9f-f58c-6dee12dd14d0",
        "colab": {
          "base_uri": "https://localhost:8080/",
          "height": 35
        }
      },
      "source": [
        "import os\n",
        "import numpy as np\n",
        "import keras\n",
        "import pickle\n",
        "import pandas as pd\n",
        "from keras.utils import plot_model\n",
        "from keras.datasets import fashion_mnist\n",
        "from keras.models import Model\n",
        "from keras.models import Sequential\n",
        "from keras.layers import Dense, Input\n",
        "import matplotlib.pyplot as plt\n",
        "%matplotlib inline\n",
        "from sklearn.metrics import mean_squared_error\n",
        "from sklearn.preprocessing import MinMaxScaler"
      ],
      "execution_count": 3,
      "outputs": [
        {
          "output_type": "stream",
          "text": [
            "Using TensorFlow backend.\n"
          ],
          "name": "stderr"
        }
      ]
    },
    {
      "cell_type": "code",
      "metadata": {
        "id": "Qx_eHkdoFv3e",
        "colab_type": "code",
        "outputId": "dc1e43c4-cd86-4a42-f024-78b4904714bd",
        "colab": {
          "base_uri": "https://localhost:8080/",
          "height": 125
        }
      },
      "source": [
        "# Then you’ll see a link, click on that link, allow access\n",
        "# Copy the code that pops up, paste it in the box, hit enter\n",
        "\n",
        "from google.colab import drive\n",
        "drive.mount('/content/gdrive')"
      ],
      "execution_count": 4,
      "outputs": [
        {
          "output_type": "stream",
          "text": [
            "Go to this URL in a browser: https://accounts.google.com/o/oauth2/auth?client_id=947318989803-6bn6qk8qdgf4n4g3pfee6491hc0brc4i.apps.googleusercontent.com&redirect_uri=urn%3Aietf%3Awg%3Aoauth%3A2.0%3Aoob&scope=email%20https%3A%2F%2Fwww.googleapis.com%2Fauth%2Fdocs.test%20https%3A%2F%2Fwww.googleapis.com%2Fauth%2Fdrive%20https%3A%2F%2Fwww.googleapis.com%2Fauth%2Fdrive.photos.readonly%20https%3A%2F%2Fwww.googleapis.com%2Fauth%2Fpeopleapi.readonly&response_type=code\n",
            "\n",
            "Enter your authorization code:\n",
            "··········\n",
            "Mounted at /content/gdrive\n"
          ],
          "name": "stdout"
        }
      ]
    },
    {
      "cell_type": "code",
      "metadata": {
        "id": "d8kuZNznGIiw",
        "colab_type": "code",
        "outputId": "8bee486a-0ba3-446a-e4e7-5164c7ef7362",
        "colab": {
          "base_uri": "https://localhost:8080/",
          "height": 35
        }
      },
      "source": [
        "# Change working directory to be current folder\n",
        "\n",
        "%cd '/content/gdrive/My Drive/Colab Notebooks/day3 workshop'\n",
        "\n"
      ],
      "execution_count": 5,
      "outputs": [
        {
          "output_type": "stream",
          "text": [
            "/content/gdrive/My Drive/Colab Notebooks/day3 workshop\n"
          ],
          "name": "stdout"
        }
      ]
    },
    {
      "cell_type": "code",
      "metadata": {
        "id": "nR0CFaIOFb28",
        "colab_type": "code",
        "colab": {}
      },
      "source": [
        "# Configuration on autoencoder model\n",
        "\n",
        "# Dimension of input signal, determined by your test data\n",
        "signal_dimension = 784 \n",
        "\n",
        "# Dimension of encoded features, can be adjusted by user\n",
        "encoder_dimension = 2   #w\n",
        "\n",
        "# training setup\n",
        "EPOCHS = 5\n",
        "BATCH_SIZE = 64\n"
      ],
      "execution_count": 0,
      "outputs": []
    },
    {
      "cell_type": "code",
      "metadata": {
        "id": "8EZR6y7x8VFd",
        "colab_type": "code",
        "colab": {}
      },
      "source": [
        "# Define an autoencoder model using Sequential method\n",
        "\n",
        "def AE_method1(x_train):\n",
        "    FINAL_DIM = 900\n",
        "    data_dim = data_train.shape[1]\n",
        "    autoencoder = Sequential()\n",
        "    autoencoder.add(Dense(encoder_dimension, activation='relu', input_shape=(signal_dimension, ), name='layer1'))\n",
        "    autoencoder.add(Dense(signal_dimension, activation='relu',name='layer2'))\n",
        "    autoencoder.compile(optimizer='adam', loss='mse')\n",
        "    autoencoder.fit(x_train, x_train, epochs=EPOCHS, batch_size=BATCH_SIZE, shuffle=True)\n",
        "    \n",
        "    encoder = Model(inputs=autoencoder.input, outputs=autoencoder.get_layer('layer1').output)\n",
        "    return encoder, autoencoder\n"
      ],
      "execution_count": 0,
      "outputs": []
    },
    {
      "cell_type": "code",
      "metadata": {
        "id": "XUqEnXID8YUP",
        "colab_type": "code",
        "colab": {}
      },
      "source": [
        "# Show the encoding coefficients\n",
        "\n",
        "def show_encodings(inputs, latent_repr, outputs):\n",
        "    n = len(inputs)\n",
        "    fig, axes = plt.subplots(2, n)\n",
        "    for i in range(n):\n",
        "        print(i, '-th image, encoding coefficients are ', latent_repr[i,:])\n",
        "        axes[0, i].imshow(inputs[i].reshape(28, 28), cmap='gray')\n",
        "        axes[1, i].imshow(outputs[i].reshape(28, 28), cmap='gray')\n",
        "    for ax in axes.flatten():\n",
        "        ax.get_xaxis().set_visible(False)\n",
        "        ax.get_yaxis().set_visible(False)\n",
        "        plt.show()"
      ],
      "execution_count": 0,
      "outputs": []
    },
    {
      "cell_type": "code",
      "metadata": {
        "id": "yQJMcysb8bRj",
        "colab_type": "code",
        "outputId": "a6107279-550f-4e4f-92fc-fd5968345dc3",
        "colab": {
          "base_uri": "https://localhost:8080/",
          "height": 98
        }
      },
      "source": [
        "# For the first time of running this code, it will automatically download fashion_mnist data from Internet\n",
        "# Load data\n",
        "(data_train, label_train), (data_test, label_test) = fashion_mnist.load_data()\n",
        "print(data_train.shape, data_test.shape)\n",
        "\n",
        "# Normalize\n",
        "data_train = data_train.astype('float32') / 255.\n",
        "data_test = data_test.astype('float32') / 255.\n",
        "\n",
        "data_test_Q1 = data_test\n",
        "# Plot the examples of original images\n",
        "fig, ax = plt.subplots(1, 10)\n",
        "for i in range(10):\n",
        "    ax[i].imshow(data_train[i], cmap='gray')\n",
        "    ax[i].axis('off')\n",
        "plt.show()\n",
        "data_train = data_train.reshape((data_train.shape[0], -1))\n",
        "data_test = data_test.reshape((data_test.shape[0], -1))\n"
      ],
      "execution_count": 46,
      "outputs": [
        {
          "output_type": "stream",
          "text": [
            "(60000, 28, 28) (10000, 28, 28)\n"
          ],
          "name": "stdout"
        },
        {
          "output_type": "display_data",
          "data": {
            "image/png": "[encoded data removed]",
            "text/plain": [
              "<Figure size 432x288 with 10 Axes>"
            ]
          },
          "metadata": {
            "tags": []
          }
        }
      ]
    },
    {
      "cell_type": "code",
      "metadata": {
        "id": "sD2sQDMs8hPh",
        "colab_type": "code",
        "outputId": "e1feedea-0c89-4994-c73a-66d69a592132",
        "colab": {
          "base_uri": "https://localhost:8080/",
          "height": 851
        }
      },
      "source": [
        "# Demo autoencoder using method 1 (Sequential method)\n",
        "\n",
        "model_encoder, model_autoencoder = AE_method1(x_train=data_train)  \n",
        "model_encoder.summary()\n",
        "model_autoencoder.summary()"
      ],
      "execution_count": 13,
      "outputs": [
        {
          "output_type": "stream",
          "text": [
            "WARNING:tensorflow:From /usr/local/lib/python3.6/dist-packages/keras/backend/tensorflow_backend.py:66: The name tf.get_default_graph is deprecated. Please use tf.compat.v1.get_default_graph instead.\n",
            "\n",
            "WARNING:tensorflow:From /usr/local/lib/python3.6/dist-packages/keras/backend/tensorflow_backend.py:541: The name tf.placeholder is deprecated. Please use tf.compat.v1.placeholder instead.\n",
            "\n",
            "WARNING:tensorflow:From /usr/local/lib/python3.6/dist-packages/keras/backend/tensorflow_backend.py:4432: The name tf.random_uniform is deprecated. Please use tf.random.uniform instead.\n",
            "\n",
            "WARNING:tensorflow:From /usr/local/lib/python3.6/dist-packages/keras/optimizers.py:793: The name tf.train.Optimizer is deprecated. Please use tf.compat.v1.train.Optimizer instead.\n",
            "\n",
            "WARNING:tensorflow:From /usr/local/lib/python3.6/dist-packages/keras/backend/tensorflow_backend.py:1033: The name tf.assign_add is deprecated. Please use tf.compat.v1.assign_add instead.\n",
            "\n",
            "WARNING:tensorflow:From /usr/local/lib/python3.6/dist-packages/keras/backend/tensorflow_backend.py:1020: The name tf.assign is deprecated. Please use tf.compat.v1.assign instead.\n",
            "\n",
            "Epoch 1/5\n",
            "60000/60000 [==============================] - 6s 108us/step - loss: 0.1016\n",
            "Epoch 2/5\n",
            "60000/60000 [==============================] - 4s 61us/step - loss: 0.0956\n",
            "Epoch 3/5\n",
            "60000/60000 [==============================] - 3s 58us/step - loss: 0.0952\n",
            "Epoch 4/5\n",
            "60000/60000 [==============================] - 4s 60us/step - loss: 0.0952\n",
            "Epoch 5/5\n",
            "60000/60000 [==============================] - 4s 63us/step - loss: 0.0952\n",
            "Model: \"model_1\"\n",
            "_________________________________________________________________\n",
            "Layer (type)                 Output Shape              Param #   \n",
            "=================================================================\n",
            "layer1_input (InputLayer)    (None, 784)               0         \n",
            "_________________________________________________________________\n",
            "layer1 (Dense)               (None, 2)                 1570      \n",
            "=================================================================\n",
            "Total params: 1,570\n",
            "Trainable params: 1,570\n",
            "Non-trainable params: 0\n",
            "_________________________________________________________________\n",
            "Model: \"sequential_1\"\n",
            "_________________________________________________________________\n",
            "Layer (type)                 Output Shape              Param #   \n",
            "=================================================================\n",
            "layer1 (Dense)               (None, 2)                 1570      \n",
            "_________________________________________________________________\n",
            "layer2 (Dense)               (None, 784)               2352      \n",
            "=================================================================\n",
            "Total params: 3,922\n",
            "Trainable params: 3,922\n",
            "Non-trainable params: 0\n",
            "_________________________________________________________________\n"
          ],
          "name": "stdout"
        }
      ]
    },
    {
      "cell_type": "code",
      "metadata": {
        "id": "S601YZWv8j2X",
        "colab_type": "code",
        "outputId": "d6c04375-0fb7-4d96-f3ad-fc254c688a69",
        "colab": {
          "base_uri": "https://localhost:8080/",
          "height": 324
        }
      },
      "source": [
        "# Visualize the results and encoding coefficients\n",
        "\n",
        "num_sample = 6 # Number of test samples used for visualization\n",
        "data_encode = model_encoder.predict(data_test[:num_sample])\n",
        "data_rec = model_autoencoder.predict(data_test)\n",
        "show_encodings(data_test[:num_sample], data_encode, data_rec)  # 2 w"
      ],
      "execution_count": 15,
      "outputs": [
        {
          "output_type": "stream",
          "text": [
            "0 -th image, encoding coefficients are  [3.42944    0.15802567]\n",
            "1 -th image, encoding coefficients are  [11.568926  5.929111]\n",
            "2 -th image, encoding coefficients are  [1.0324092 9.9643955]\n",
            "3 -th image, encoding coefficients are  [0.        7.9110303]\n",
            "4 -th image, encoding coefficients are  [6.402956  4.0600834]\n",
            "5 -th image, encoding coefficients are  [2.8339567 7.881507 ]\n"
          ],
          "name": "stdout"
        },
        {
          "output_type": "display_data",
          "data": {
            "image/png": "[encoded data removed]",
            "text/plain": [
              "<Figure size 432x288 with 12 Axes>"
            ]
          },
          "metadata": {
            "tags": []
          }
        }
      ]
    },
    {
      "cell_type": "code",
      "metadata": {
        "id": "ASPaZxv68v-e",
        "colab_type": "code",
        "colab": {}
      },
      "source": [
        "# Define an autoencoder model using Functional method\n",
        "\n",
        "def AE_method2(x_train):\n",
        "    # input placeholder\n",
        "    \n",
        "    input_image = Input(shape=(signal_dimension, ))\n",
        "\n",
        "    # encoding layer\n",
        "    hidden_layer = Dense(encoder_dimension, activation='relu')(input_image)\n",
        "\n",
        "    # decoding layer\n",
        "    decode_output = Dense(signal_dimension, activation='relu')(hidden_layer)\n",
        "\n",
        "    # build autoencoder, encoder, decoder\n",
        "    encoder = Model(inputs=input_image, outputs=hidden_layer)\n",
        "    autoencoder = Model(inputs=input_image, outputs=decode_output)\n",
        "\n",
        "    # compile autoencoder\n",
        "    autoencoder.compile(optimizer='adam', loss='mse')\n",
        "\n",
        "    # training\n",
        "    autoencoder.fit(x_train, x_train, epochs=EPOCHS, batch_size=BATCH_SIZE, shuffle=True)\n",
        "\n",
        "    return encoder, autoencoder"
      ],
      "execution_count": 0,
      "outputs": []
    },
    {
      "cell_type": "markdown",
      "metadata": {
        "id": "M6daH46E83zY",
        "colab_type": "text"
      },
      "source": [
        "$\\color{red}{\\text{Q1. Complete the code to build autoencoder model and visualize the encoding coefficients.}}$\n",
        "\n",
        "Tasks\n",
        "\n",
        "- Build an autoencoder model using `AE_method2()`\n",
        "- Plot the model summary\n",
        "- Perform prediction using the first 5 test samples\n",
        "- Visualize the original sample, encoding coefficients, reconstructed sample"
      ]
    },
    {
      "cell_type": "code",
      "metadata": {
        "id": "WkTVxhdD8y4M",
        "colab_type": "code",
        "colab": {
          "base_uri": "https://localhost:8080/",
          "height": 654
        },
        "outputId": "7d034336-6cd7-4aaa-f371-17a123a206af"
      },
      "source": [
        "# Plot the model summary\n",
        "model_encoder.summary()\n",
        "model_autoencoder.summary()\n",
        "model_encoder, model_autoencoder = AE_method2(x_train=data_train)  "
      ],
      "execution_count": 44,
      "outputs": [
        {
          "output_type": "stream",
          "text": [
            "Model: \"model_6\"\n",
            "_________________________________________________________________\n",
            "Layer (type)                 Output Shape              Param #   \n",
            "=================================================================\n",
            "input_3 (InputLayer)         (None, 784)               0         \n",
            "_________________________________________________________________\n",
            "dense_5 (Dense)              (None, 2)                 1570      \n",
            "=================================================================\n",
            "Total params: 1,570\n",
            "Trainable params: 1,570\n",
            "Non-trainable params: 0\n",
            "_________________________________________________________________\n",
            "Model: \"model_7\"\n",
            "_________________________________________________________________\n",
            "Layer (type)                 Output Shape              Param #   \n",
            "=================================================================\n",
            "input_3 (InputLayer)         (None, 784)               0         \n",
            "_________________________________________________________________\n",
            "dense_5 (Dense)              (None, 2)                 1570      \n",
            "_________________________________________________________________\n",
            "dense_6 (Dense)              (None, 784)               2352      \n",
            "=================================================================\n",
            "Total params: 3,922\n",
            "Trainable params: 3,922\n",
            "Non-trainable params: 0\n",
            "_________________________________________________________________\n",
            "Epoch 1/5\n",
            "60000/60000 [==============================] - 4s 63us/step - loss: 0.0935\n",
            "Epoch 2/5\n",
            "60000/60000 [==============================] - 4s 59us/step - loss: 0.0860\n",
            "Epoch 3/5\n",
            "60000/60000 [==============================] - 4s 62us/step - loss: 0.0858\n",
            "Epoch 4/5\n",
            "60000/60000 [==============================] - 3s 58us/step - loss: 0.0857\n",
            "Epoch 5/5\n",
            "60000/60000 [==============================] - 3s 58us/step - loss: 0.0857\n"
          ],
          "name": "stdout"
        }
      ]
    },
    {
      "cell_type": "code",
      "metadata": {
        "id": "yKbcL0WtdSrk",
        "colab_type": "code",
        "colab": {
          "base_uri": "https://localhost:8080/",
          "height": 408
        },
        "outputId": "3736994b-ad5e-4b75-d40d-7c350431357b"
      },
      "source": [
        "# Perform prediction using the first 5 test samples\n",
        "data_rec = model_autoencoder.predict(data_test[:5])\n",
        "# Visualize the original sample, encoding coefficients, reconstructed sample\n",
        "fig, ax = plt.subplots(1, 5)\n",
        "for i in range(5):\n",
        "    ax[i].imshow(data_test_Q1[i], cmap='gray')\n",
        "    ax[i].axis('off')\n",
        "plt.show()\n",
        "\n",
        "data_encode = model_encoder.predict(data_test[:5])\n",
        "show_encodings(data_test[:5], data_encode, data_rec)\n"
      ],
      "execution_count": 134,
      "outputs": [
        {
          "output_type": "display_data",
          "data": {
            "image/png": "[encoded data removed]",
            "text/plain": [
              "<Figure size 432x288 with 5 Axes>"
            ]
          },
          "metadata": {
            "tags": []
          }
        },
        {
          "output_type": "stream",
          "text": [
            "0 -th image, encoding coefficients are  [0.        3.3632545]\n",
            "1 -th image, encoding coefficients are  [ 5.2785006 10.725023 ]\n",
            "2 -th image, encoding coefficients are  [9.52092    0.77252305]\n",
            "3 -th image, encoding coefficients are  [7.65292 0.     ]\n",
            "4 -th image, encoding coefficients are  [3.6604514 6.2329926]\n"
          ],
          "name": "stdout"
        },
        {
          "output_type": "display_data",
          "data": {
            "image/png": "[encoded data removed]",
            "text/plain": [
              "<Figure size 432x288 with 10 Axes>"
            ]
          },
          "metadata": {
            "tags": []
          }
        }
      ]
    },
    {
      "cell_type": "markdown",
      "metadata": {
        "id": "1LYi8Lje8_1A",
        "colab_type": "text"
      },
      "source": [
        "# Exercise 2: Machine health monitoring\n",
        "\n",
        "- Reference: R. Zhao, R. Yan, Z. Chen, K. Mao, P. Wang, R. Gao, Deep learning and its applications to machine health monitoring, Mechanical Systems and Signal Processing, Vol. 115, Jan. 2019, pp. 213-237.\n",
        "\n",
        "- pdf paper, https://arxiv.org/abs/1612.07640\n",
        "- code, https://github.com/ClockworkBunny/MHMS_DEEPLEARNING"
      ]
    },
    {
      "cell_type": "code",
      "metadata": {
        "id": "zU4AeFno898f",
        "colab_type": "code",
        "colab": {}
      },
      "source": [
        "# Configuration\n",
        "encoder_dimension = 10\n",
        "NUM_EPOCH = 10\n",
        "BATH_SIZE = 24"
      ],
      "execution_count": 0,
      "outputs": []
    },
    {
      "cell_type": "code",
      "metadata": {
        "id": "ZzShvDsb9Hjh",
        "colab_type": "code",
        "colab": {}
      },
      "source": [
        "# Define an autoencoder model using Sequantial method\n",
        "\n",
        "def build_AE_machine(data_train):\n",
        "    data_dim = data_train.shape[1]\n",
        "    ae = Sequential()\n",
        "    ae.add(Dense(encoder_dimension, activation='relu', input_shape=(data_dim, )))\n",
        "    ae.add(Dense(encoder_dimension, activation='relu'))\n",
        "    ae.add(Dense(data_dim, activation='relu'))\n",
        "    ae.compile(optimizer='adam', loss='mse')\n",
        "    ae.fit(data_train, data_train, epochs=NUM_EPOCH, batch_size=BATH_SIZE, shuffle=True)\n",
        "    \n",
        "    return ae\n",
        "\n",
        "    "
      ],
      "execution_count": 0,
      "outputs": []
    },
    {
      "cell_type": "code",
      "metadata": {
        "id": "STmPhD-p9K6A",
        "colab_type": "code",
        "outputId": "63e2e6a0-25cd-433f-cfa3-b61e44f4d49b",
        "colab": {
          "base_uri": "https://localhost:8080/",
          "height": 618
        }
      },
      "source": [
        "# Load data \n",
        "x_train_pd = pd.read_csv(\"data/machine_sensor_train.csv\",header=None)\n",
        "x_train = x_train_pd.values\n",
        "x_test_pd = pd.read_csv(\"data/machine_sensor_test.csv\",header=None)\n",
        "x_test = x_test_pd.values\n",
        "\n",
        "# Train the model\n",
        "normal_AE = build_AE_machine(x_train)\n",
        "normal_AE.summary()"
      ],
      "execution_count": 52,
      "outputs": [
        {
          "output_type": "stream",
          "text": [
            "Epoch 1/10\n",
            "600/600 [==============================] - 0s 686us/step - loss: 0.4668\n",
            "Epoch 2/10\n",
            "600/600 [==============================] - 0s 161us/step - loss: 0.4510\n",
            "Epoch 3/10\n",
            "600/600 [==============================] - 0s 178us/step - loss: 0.4503\n",
            "Epoch 4/10\n",
            "600/600 [==============================] - 0s 176us/step - loss: 0.4498\n",
            "Epoch 5/10\n",
            "600/600 [==============================] - 0s 183us/step - loss: 0.4494\n",
            "Epoch 6/10\n",
            "600/600 [==============================] - 0s 214us/step - loss: 0.4488\n",
            "Epoch 7/10\n",
            "600/600 [==============================] - 0s 208us/step - loss: 0.4480\n",
            "Epoch 8/10\n",
            "600/600 [==============================] - 0s 206us/step - loss: 0.4472\n",
            "Epoch 9/10\n",
            "600/600 [==============================] - 0s 208us/step - loss: 0.4463\n",
            "Epoch 10/10\n",
            "600/600 [==============================] - 0s 201us/step - loss: 0.4456\n",
            "Model: \"sequential_2\"\n",
            "_________________________________________________________________\n",
            "Layer (type)                 Output Shape              Param #   \n",
            "=================================================================\n",
            "dense_9 (Dense)              (None, 10)                710       \n",
            "_________________________________________________________________\n",
            "dense_10 (Dense)             (None, 10)                110       \n",
            "_________________________________________________________________\n",
            "dense_11 (Dense)             (None, 70)                770       \n",
            "=================================================================\n",
            "Total params: 1,590\n",
            "Trainable params: 1,590\n",
            "Non-trainable params: 0\n",
            "_________________________________________________________________\n"
          ],
          "name": "stdout"
        }
      ]
    },
    {
      "cell_type": "code",
      "metadata": {
        "id": "aQv5DJceV3mQ",
        "colab_type": "code",
        "colab": {
          "base_uri": "https://localhost:8080/",
          "height": 35
        },
        "outputId": "9748964d-c55c-40a8-9f74-a948216b63b0"
      },
      "source": [
        "print(range(0,x_test.shape[0]))"
      ],
      "execution_count": 60,
      "outputs": [
        {
          "output_type": "stream",
          "text": [
            "range(0, 300)\n"
          ],
          "name": "stdout"
        }
      ]
    },
    {
      "cell_type": "code",
      "metadata": {
        "id": "yKDdpJDA9M9q",
        "colab_type": "code",
        "outputId": "3caeeb20-e1c1-4428-b338-16d5894b87aa",
        "colab": {
          "base_uri": "https://localhost:8080/",
          "height": 52
        }
      },
      "source": [
        "sample_index = 0\n",
        "thre = 10 # A manually-defined threshold\n",
        "\n",
        "# Step 1: Select the test sample (such as the 0-th sample)\n",
        "test_data_orig = x_test[sample_index:sample_index+1,:]\n",
        "print(test_data_orig.shape)\n",
        "\n",
        "# Step 2: Perform prediction using the trained autoencoder model\n",
        "test_data_predict = normal_AE.predict(test_data_orig)\n",
        "\n",
        "# Step 3: Calculate the reconstruction error and make decision on anomaly detection\n",
        "dist = np.linalg.norm(test_data_orig - test_data_predict, axis=-1)   \n",
        "\n",
        "if (dist>thre):\n",
        "    print('Anomaly detected: the distance is %.2f' % dist)\n",
        "else:\n",
        "    print('Normal: the distance is %.2f' % dist)\n",
        "    "
      ],
      "execution_count": 53,
      "outputs": [
        {
          "output_type": "stream",
          "text": [
            "(1, 70)\n",
            "Normal: the distance is 6.73\n"
          ],
          "name": "stdout"
        }
      ]
    },
    {
      "cell_type": "markdown",
      "metadata": {
        "id": "kQX1zW1o9PTY",
        "colab_type": "text"
      },
      "source": [
        "$\\color{red}{\\text{Q2. Complete the code to build autoencoder model for abnormal machine sensory signal detection.}}$\n",
        "\n",
        "Tasks\n",
        "\n",
        "- Build an autoencoder model using build_AE_machine()\n",
        "- Peform the test on x_test and determine the test data (row index) with LARGEST reconstruction error based on your trained model"
      ]
    },
    {
      "cell_type": "code",
      "metadata": {
        "id": "E4EtS-Tw9clt",
        "colab_type": "code",
        "colab": {
          "base_uri": "https://localhost:8080/",
          "height": 52
        },
        "outputId": "9e5246c1-0c8c-45ef-84e0-d791abbfe5f4"
      },
      "source": [
        "# Provide your solution to Q2 here\n",
        "\n",
        "def build_AE_machine(data_train):\n",
        "    data_dim = data_train.shape[1]\n",
        "    ae = Sequential()\n",
        "    ae.add(Dense(encoder_dimension, activation='relu', input_shape=(data_dim, )))\n",
        "    ae.add(Dense(encoder_dimension, activation='relu'))\n",
        "    ae.add(Dense(data_dim, activation='relu'))\n",
        "    ae.compile(optimizer='adam', loss='mse')\n",
        "    ae.fit(data_train, data_train, epochs=NUM_EPOCH, batch_size=BATH_SIZE, shuffle=True)\n",
        "    \n",
        "    return ae\n",
        "\n",
        "error=[]\n",
        "for sample_index in range(0,x_test.shape[0]):\n",
        "  thre = 10 # A manually-defined threshold\n",
        "  # Step 1: Select the test sample (such as the 0-th sample)\n",
        "  test_data_orig = x_test[sample_index:sample_index+1,:]  \n",
        "  # Step 2: Perform prediction using the trained autoencoder model\n",
        "  test_data_predict = normal_AE.predict(test_data_orig)\n",
        "  # Step 3: Calculate the reconstruction error and make decision on anomaly detection\n",
        "  dist = np.linalg.norm(test_data_orig - test_data_predict, axis=-1)   \n",
        "  list = dist.tolist()\n",
        "  error.append(list)\n",
        "\n",
        "import heapq \n",
        "top5 = heapq.nlargest(5, error)\n",
        "print(f'Top 5 error {top5}')\n",
        "\n",
        "top5_index =[]\n",
        "for i in top5:\n",
        "  top5_index.append(error.index(i))\n",
        "print(f'Top 5 error index {top5_index}')"
      ],
      "execution_count": 136,
      "outputs": [
        {
          "output_type": "stream",
          "text": [
            "Top 5 error [[6.846132661811302], [6.752645818366906], [6.731105895923073], [6.633921308517835], [6.632422865114793]]\n",
            "Top 5 error index [1, 2, 0, 3, 4]\n"
          ],
          "name": "stdout"
        }
      ]
    },
    {
      "cell_type": "markdown",
      "metadata": {
        "id": "NGM54frFug21",
        "colab_type": "text"
      },
      "source": [
        "**Once you finish the workshop, rename your .ipynb file to your name, and submit your .ipynb file into LumiNUS.**\n",
        "\n",
        "Have a nice day!"
      ]
    }
  ]
}